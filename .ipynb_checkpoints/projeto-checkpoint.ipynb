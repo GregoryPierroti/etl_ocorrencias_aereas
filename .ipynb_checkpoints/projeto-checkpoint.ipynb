{
 "cells": [
  {
   "cell_type": "code",
   "execution_count": 80,
   "id": "5c0a3aa6",
   "metadata": {
    "scrolled": true
   },
   "outputs": [],
   "source": [
    "import pandas as pd\n",
    "import pandera as pa\n"
   ]
  },
  {
   "cell_type": "code",
   "execution_count": 81,
   "id": "436a950a",
   "metadata": {},
   "outputs": [],
   "source": [
    "df= pd.read_csv(\"base/ocorrencia.csv\", sep=\";\", parse_dates = [\"ocorrencia_dia\"], dayfirst=True)"
   ]
  },
  {
   "cell_type": "code",
   "execution_count": null,
   "id": "ec5ae556",
   "metadata": {},
   "outputs": [],
   "source": [
    "schema = pa.DataFrameSchema( columns = \n",
    "                            {\"codigo_ocorrencia\":pa.Column(pa.Int),\n",
    "                             \"codigo_ocorrencia2\":pa.Column(pa.Int),\n",
    "                             \"ocorrencia_classificacao\":pa.Column(pa.String),\n",
    "                             \"ocorrencia_cidade\":pa.Column(pa.String),\n",
    "                             \"ocorrencia_uf\":pa.Column(pa.String, pa.Check.str_length(2,2)),\n",
    "                             \"ocorrencia_aerodromo\":pa.Column(pa.String),\n",
    "                             \"ocorrencia_dia\":pa.Column(pa.DateTime),\n",
    "                             \"ocorrencia_hora\":pa.Column(pa.String, pa.Check.str_matches(r'^([0-1]?[0-9]|[2][0-3]):([0-5][0-9])(:[0-5][0-9])?$'), nullable=True),\n",
    "                             \"total_recomendacoes\":pa.Column(pa.Int)\n",
    "                            \n",
    "                            \n",
    "                            }\n",
    "                           )"
   ]
  },
  {
   "cell_type": "code",
   "execution_count": null,
   "id": "5b582ceb",
   "metadata": {},
   "outputs": [],
   "source": [
    "schema.validate(df)"
   ]
  },
  {
   "cell_type": "code",
   "execution_count": 85,
   "id": "94fc02ec",
   "metadata": {},
   "outputs": [],
   "source": [
    "#limpeza dos dados\n",
    "\n",
    "df.replace(['**','****','*****','###!','####','NULL'], pd.NA, inplace=True)"
   ]
  },
  {
   "cell_type": "code",
   "execution_count": null,
   "id": "e96766fd",
   "metadata": {},
   "outputs": [],
   "source": []
  },
  {
   "cell_type": "code",
   "execution_count": null,
   "id": "09bd066d",
   "metadata": {},
   "outputs": [],
   "source": []
  }
 ],
 "metadata": {
  "kernelspec": {
   "display_name": "Python 3 (ipykernel)",
   "language": "python",
   "name": "python3"
  },
  "language_info": {
   "codemirror_mode": {
    "name": "ipython",
    "version": 3
   },
   "file_extension": ".py",
   "mimetype": "text/x-python",
   "name": "python",
   "nbconvert_exporter": "python",
   "pygments_lexer": "ipython3",
   "version": "3.10.1"
  }
 },
 "nbformat": 4,
 "nbformat_minor": 5
}

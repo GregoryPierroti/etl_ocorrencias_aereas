{
 "cells": [
  {
   "cell_type": "code",
   "execution_count": 11,
   "id": "5d6e6f71",
   "metadata": {},
   "outputs": [],
   "source": [
    "import pandas as pd\n"
   ]
  },
  {
   "cell_type": "code",
   "execution_count": 12,
   "id": "2cc80659",
   "metadata": {},
   "outputs": [],
   "source": [
    "df= pd.read_csv(\"base/ocorrencia.csv\", sep=\";\", parse_dates = [\"ocorrencia_dia\"], dayfirst=True)"
   ]
  },
  {
   "cell_type": "code",
   "execution_count": null,
   "id": "f54b526a",
   "metadata": {},
   "outputs": [],
   "source": []
  },
  {
   "cell_type": "code",
   "execution_count": 14,
   "id": "ff631e58",
   "metadata": {},
   "outputs": [],
   "source": [
    "#df.loc[df.ocorrencia_aerodromo=='****', ['ocorrencia_aerodromo']] =pd.NA"
   ]
  },
  {
   "cell_type": "code",
   "execution_count": 15,
   "id": "456a3cf7",
   "metadata": {},
   "outputs": [],
   "source": []
  },
  {
   "cell_type": "code",
   "execution_count": 17,
   "id": "c6d4aa1e",
   "metadata": {},
   "outputs": [
    {
     "data": {
      "text/plain": [
       "codigo_ocorrencia              0\n",
       "codigo_ocorrencia2             0\n",
       "ocorrencia_classificacao       0\n",
       "ocorrencia_cidade              0\n",
       "ocorrencia_uf                  2\n",
       "ocorrencia_aerodromo        1905\n",
       "ocorrencia_dia                 0\n",
       "ocorrencia_hora                0\n",
       "total_recomendacoes            0\n",
       "dtype: int64"
      ]
     },
     "execution_count": 17,
     "metadata": {},
     "output_type": "execute_result"
    }
   ],
   "source": [
    "df.isna().sum()"
   ]
  },
  {
   "cell_type": "code",
   "execution_count": null,
   "id": "a383a4ed",
   "metadata": {},
   "outputs": [],
   "source": []
  }
 ],
 "metadata": {
  "kernelspec": {
   "display_name": "Python 3 (ipykernel)",
   "language": "python",
   "name": "python3"
  },
  "language_info": {
   "codemirror_mode": {
    "name": "ipython",
    "version": 3
   },
   "file_extension": ".py",
   "mimetype": "text/x-python",
   "name": "python",
   "nbconvert_exporter": "python",
   "pygments_lexer": "ipython3",
   "version": "3.10.1"
  }
 },
 "nbformat": 4,
 "nbformat_minor": 5
}
